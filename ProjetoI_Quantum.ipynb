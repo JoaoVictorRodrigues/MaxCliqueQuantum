{
  "nbformat": 4,
  "nbformat_minor": 0,
  "metadata": {
    "colab": {
      "provenance": []
    },
    "kernelspec": {
      "name": "python3",
      "display_name": "Python 3"
    },
    "language_info": {
      "name": "python"
    }
  },
  "cells": [
    {
      "cell_type": "markdown",
      "source": [
        "# **Encontrar o numero de *cliques* em um gráfo**\n",
        "\n",
        "## 1 - Introdução\n",
        "\n",
        "O problema a sera atacado neste projeto é o de encontrar *cliques* máximos em uma rede. Um *clique* consisite em um subconjuto de vértices de um grafo diretamente interligados por vértices direcionais ou não.\n",
        "\n",
        "Em um contexto aplicado, um clique em um rede pode representar as relações que os integrantes de um determinado grupo apresentam entre sí, como amizades, relações familiares entre outros.\n",
        "\n",
        "![Exemplo Clique](https://upload.wikimedia.org/wikipedia/commons/thumb/d/d0/VR_complex.svg/1200px-VR_complex.svg.png)\n",
        "\n",
        "Imagem retirada de: https://commons.wikimedia.org/wiki/File:VR_complex.svg#/media/File:VR_complex.svg\n",
        "\n",
        "A dificuldade computacional da análise de cliques surge a partir da necessidade de verificar todas as relações (arestas) de todos os elementos da rede (vértices).\n",
        "\n",
        "## 2 - Complexidade\n",
        "\n",
        "### 2.1 - Força bruta\n",
        "Dada uma rede (gráfo) com $n$ vértices, uma abordagem de força burta, o algoritmo tem que contar e enumerar todos os possiveis cliques do gráfo, percorrendo todos os vértices, com uma complexidade $O(3^{n})$. O que para grandes gráfos é um tempo impraticável.\n",
        "\n",
        "### 2.2 - Algoritmo Bron-Kerbosch\n",
        "Uma abordagem melhorada para encontrar os cliques máximos é o *Algoritmo Bron-Kerbosch* que utiliza da recursão para diminuir o tempo de execução e a complexidade de tempo do problema dos cliques.\n",
        "Esta abordagem se utiliza principalmente de três estruturas:\n",
        " - Dado um grfo de tamanho G:\n",
        "  * Uma lista $C$ que contém o conjunto de véstices  já definidos como pertencentes a um clique;\n",
        "  * Uma lista $P$ com vértices que tem arestas com os elementos em $C$, possíveis candidatos a fazer parte de um clique.\n",
        "  * Uma lista $X$ que contém ps véstices já analisados e que não fazem parte dos possíveis candidatos para o clique, lista $P$.\n",
        "\n",
        "A seguir, um pseudo-código do funcionamento do algoritmo de Bron-Kerbosch\n",
        "\n",
        "```\n",
        "BronKerbosch(C, P, X) is\n",
        "    se P e X estão vazios então\n",
        "       adiciona o clique C ao conjunto solução\n",
        "    para cada vertice v no conjunto P Faça\n",
        "        # Recurção.\n",
        "        BronKerbosch(R ⋃ {v}, P ⋂ N(v), X ⋂ N(v))\n",
        "        P := P \\ {v}\n",
        "        X := X ⋃ {v}\n",
        "```\n",
        "No pior dos casos o algoritmo de Bron-Kerbosch tem complexidade de tempo igual a $O(2^n)$, sendo $n$ o número de vértices do grafo.\n",
        "\n",
        "\n",
        "### 3 - Algoritmo quântico\n",
        "Em tempo polinomial, a resolução do problema dos cliques máximos em um grafo com muitos véstices é quase impossível, dada a complexidade e a limitação da computação classica.\n",
        "A ideia é utilizar a superposição quantica para reduzir o tempo de processamento para resolver o problema do clique máximo.\n",
        "\n",
        "#### 3.1 - Algoritmo de Grover\n",
        "O algoritmo de Grover é um algoritmo quântico que demonstra o poder da computação quântica. Ele usa as propriedades de superposição, emaranhamento e retrocesso de fase para pesquisar uma lista não ordenada de elementos $N$ em $O(sqrt(N))$ etapas, o que é uma melhoria significativa em relação à complexidade clássica de $O(N)$.\n",
        "\n",
        "A ideia seria utilizar o algoritmo de Grover para buscar em uma matiz de ajacênecia, todas as arestas quais tem vértices que são condidatos a compor um clique.\n",
        "\n",
        "Apesar de uma descrição simples, a implemnetação apresenta um problema, a cada $n$ vértices, a implementação pede um $n$ qubit, escalando muito a complextdade e o processamento para gerandes grafos.\n",
        "\n",
        "Uma solução é ilplementar alguma forma de otimização, sendo a mais famosa o *QAOA*.\n",
        "\n",
        "\n",
        "\n",
        "\n"
      ],
      "metadata": {
        "id": "I4A6sUm3ulQM"
      }
    }
  ]
}